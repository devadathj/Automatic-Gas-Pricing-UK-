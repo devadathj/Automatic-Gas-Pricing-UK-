{
 "cells": [
  {
   "cell_type": "code",
   "execution_count": 1,
   "id": "e9789b11",
   "metadata": {},
   "outputs": [],
   "source": [
    "import pandas as pd\n",
    "import numpy as np\n",
    "import random \n",
    "import datetime\n",
    "import timeit\n",
    "import matplotlib.pyplot as plt"
   ]
  },
  {
   "cell_type": "code",
   "execution_count": 2,
   "id": "43e5e251",
   "metadata": {},
   "outputs": [
    {
     "name": "stdout",
     "output_type": "stream",
     "text": [
      "            Total Estimated Consumption (kWh)  Total Cost (£)\n",
      "Meter ID                                                     \n",
      "1000000603                            24674.0            8.27\n",
      "10588707                             122450.0           28.50\n",
      "10626610                             303558.0           88.24\n"
     ]
    }
   ],
   "source": [
    "#Part 1\n",
    "#Reading files and creating required dataframes\n",
    "xls = pd.ExcelFile(r\"data.xlsx\")\n",
    "forcast_consum = pd.read_excel(xls, 'Forecasted Consumption', index_col ='Meter ID')\n",
    "meter_list = pd.read_excel(xls, 'Meter List', index_col = 'Meter ID')\n",
    "rates = pd.read_excel(xls, 'Rates', index_col = 'Exit Zone')\n",
    "\n",
    "rates = rates.fillna(np.inf) #Setting upper bounds to infinity\n",
    "\n",
    "total_cost_per_meter = list()\n",
    "total_consum = list()\n",
    "meterid = list()\n",
    "\n",
    "for i, row in meter_list.iterrows(): #For every Meter ID\n",
    "    ez = meter_list.loc[i, 'Exit Zone'] #Identify the Exit Zone\n",
    "    aq = meter_list.loc[i, 'Annual Quantity (kWh)'] #Identify the Annual Quantity\n",
    "    \n",
    "    reqexrates = rates.loc[ez] #Find the rate ranges for that Exit Zone\n",
    "    \n",
    "    #Find the applicable value from the range\n",
    "    req_date_range = reqexrates.loc[(reqexrates['Annual Quantity (Max)'] > aq) & (reqexrates['Annual Quantity (Min)'] < aq)] \n",
    "    req_date_range = req_date_range.reset_index()\n",
    "    forcast_consum_req = forcast_consum.loc[i] #Find the Consumption readings of the given Meter\n",
    "    forcast_consum_req = forcast_consum_req.reset_index()\n",
    "    \n",
    "    rate_per_date = list()\n",
    "    k = 0\n",
    "    for j, row in forcast_consum_req.iterrows(): #Price at a given date\n",
    "        \n",
    "        if (forcast_consum_req.loc[j, 'Date'] >= req_date_range.loc[k, 'Date']) & (forcast_consum_req.loc[j, 'Date'] < req_date_range.loc[k+1, 'Date']):\n",
    "            rate_per_date.append(req_date_range.loc[k, 'Rate (p/kWh)'])\n",
    "        else:\n",
    "            k = k+1\n",
    "            rate_per_date.append(req_date_range.loc[k, 'Rate (p/kWh)'])\n",
    "            \n",
    "    total_cost_per_meter.append(sum(forcast_consum_req['kWh']*rate_per_date/100))\n",
    "    total_consum.append(sum(forcast_consum_req['kWh']))\n",
    "    meterid.append(i)\n",
    "    \n",
    "total_cost_per_meter = [round(num, 2) for num in total_cost_per_meter] #Rounding up for 2 decimal spots\n",
    "total_consum = [round(num, 2) for num in total_consum]\n",
    "\n",
    "part1 = pd.DataFrame(list(zip(meterid, total_consum, total_cost_per_meter)), columns = ['Meter ID', 'Total Estimated Consumption (kWh)', 'Total Cost (£)'])\n",
    "part1 = part1.set_index(\"Meter ID\")\n",
    "\n",
    "print (part1)"
   ]
  },
  {
   "cell_type": "code",
   "execution_count": 3,
   "id": "156b81ef",
   "metadata": {},
   "outputs": [],
   "source": [
    "#Part 2\n",
    "def part2(rates, num = random.randint(1, 100)):  #Number of meters can be specified. If not, random between 1 and 100\n",
    "    rates = rates.reset_index()\n",
    "    ez_unique_list = set(rates['Exit Zone'])\n",
    "    \n",
    "    mid_list = list(np.random.randint(low = 1, high = 999999999, size = num)) #Random Meter numbers\n",
    "    ez_locs = list(np.random.randint(low = 1, high = len(ez_unique_list), size = num)) #Random Zones  for the meters\n",
    "    ez_list = [list(ez_unique_list)[i] for i in ez_locs]  \n",
    "    aq_list = random.sample(range(1, 999999), num) #Random AQs\n",
    "    part2 = pd.DataFrame(list(zip(mid_list, ez_list, aq_list)), columns = ['Meter ID', 'Exit Zone', 'Annual Quantity (kWh)'])\n",
    "    \n",
    "    return part2"
   ]
  },
  {
   "cell_type": "code",
   "execution_count": 4,
   "id": "bb4269e6",
   "metadata": {},
   "outputs": [],
   "source": [
    "#Part 3\n",
    "def part3(meteridlist, s_date, s_month, s_year, e_date, e_month, e_year):\n",
    "    st_date = datetime.date(s_year, s_month, s_date)\n",
    "    en_date = datetime.date(e_year, e_month, e_date)\n",
    "    \n",
    "    everyday = pd.date_range(st_date, en_date, freq = 'd')\n",
    "    part3 = pd.DataFrame(columns = ['Date', 'Meter ID', 'kWh'])\n",
    "    \n",
    "    for i in meteridlist:\n",
    "        meterid = [i]*len(everyday)\n",
    "        consump = list(np.random.randint(low = 1, high = 999, size = len(everyday)))\n",
    "        temp = pd.DataFrame(list(zip(everyday, meterid, consump)), columns = ['Date', 'Meter ID', 'kWh'])\n",
    "        part3 = pd.concat([part3, temp])\n",
    "\n",
    "    return part3"
   ]
  },
  {
   "cell_type": "code",
   "execution_count": 5,
   "id": "01f0e2c6",
   "metadata": {},
   "outputs": [
    {
     "data": {
      "text/plain": [
       "Text(0.5, 1.0, 'Benchmarking wrt number of meters')"
      ]
     },
     "execution_count": 5,
     "metadata": {},
     "output_type": "execute_result"
    },
    {
     "data": {
      "image/png": "[encoded data removed]",
      "text/plain": [
       "<Figure size 432x288 with 1 Axes>"
      ]
     },
     "metadata": {
      "needs_background": "light"
     },
     "output_type": "display_data"
    }
   ],
   "source": [
    "#Part 4 \n",
    "#Since the problem statement doesn't suggest inputting rates table, an assumption of constant rate is considered \n",
    "def part4(forcast_consum, meter_list, rate):\n",
    "    forcast_consum = forcast_consum.set_index('Meter ID')\n",
    "    meter_list = meter_list.set_index('Meter ID')\n",
    "    \n",
    "    total_cost_per_meter = list()\n",
    "    total_consum = list()\n",
    "    meterid = list()    \n",
    "\n",
    "    for i, row in meter_list.iterrows():\n",
    "    \n",
    "        forcast_consumreq = forcast_consum.loc[i]\n",
    "        forcast_consumreq = forcast_consumreq.reset_index()\n",
    "        \n",
    "        total_cost_per_meter.append(sum(pd.Series(forcast_consumreq['kWh'])*rate/100))\n",
    "        total_consum.append(sum(forcast_consumreq['kWh']))\n",
    "        meterid.append(i)\n",
    "        \n",
    "    total_cost_per_meter = [round(num, 2) for num in total_cost_per_meter] #Rounding up for 2 decimal spots\n",
    "    total_consum = [round(num, 2) for num in total_consum]\n",
    "    \n",
    "    part4 = pd.DataFrame(list(zip(meterid, total_consum, total_cost_per_meter)), columns = ['Meter ID', 'Total Estimated Consumption (kWh)', 'Total Cost (£)'])\n",
    "    part4 = part4.set_index(\"Meter ID\")\n",
    "    \n",
    "    return part4\n",
    "\n",
    "#Benchmarking\n",
    "time_meter = list()\n",
    "num_meterids = np.arange(1, 500, 10) #Complexity wrt number of meters. Used forcasted data of 3 years\n",
    "\n",
    "for i in num_meterids: \n",
    "    meter_list_new = part2(rates, i)\n",
    "    forcast_consum_new = part3(meter_list_new['Meter ID'], 1, 1, 2020, 31, 12, 2022)\n",
    "    \n",
    "    start_time = timeit.default_timer()\n",
    "    part4(forcast_consum_new, meter_list_new, 0.0287) #A constant rate(p/kWh) of 0.0287 is used\n",
    "    time_meter.append(timeit.default_timer() - start_time)\n",
    "    \n",
    "numids_time_df = pd.DataFrame(list(zip(num_meterids, time_meter)), columns = ['Number of Meter IDs', 'Run Time (in seconds)'])\n",
    "\n",
    "plt.plot(num_meterids, time_meter)\n",
    "plt.xlabel('Number of Meter IDs')\n",
    "plt.ylabel('Run Time (in seconds)')\n",
    "plt.title('Benchmarking wrt number of meters')"
   ]
  },
  {
   "cell_type": "code",
   "execution_count": 6,
   "id": "60bd65ce",
   "metadata": {},
   "outputs": [
    {
     "data": {
      "text/plain": [
       "Text(0.5, 1.0, 'Benchmarking wrt period length')"
      ]
     },
     "execution_count": 6,
     "metadata": {},
     "output_type": "execute_result"
    },
    {
     "data": {
      "image/png": "[encoded data removed]",
      "text/plain": [
       "<Figure size 432x288 with 1 Axes>"
      ]
     },
     "metadata": {
      "needs_background": "light"
     },
     "output_type": "display_data"
    }
   ],
   "source": [
    "time_fcyears = list()\n",
    "num_years = np.arange(2021, 2100, 5) #Complexity wrt increasing time. Used 10 meter ids\n",
    "\n",
    "for i in num_years: \n",
    "    meter_list_new = part2(rates, 10)\n",
    "    forcast_consum_new = part3(meter_list_new['Meter ID'], 1, 1, 2020, 31, 12, i)\n",
    "    \n",
    "    start_time = timeit.default_timer()\n",
    "    part4(forcast_consum_new, meter_list_new, 0.0287) #A constant rate(p/kWh) of 0.0287 is used\n",
    "    time_fcyears.append(timeit.default_timer() - start_time)\n",
    "    \n",
    "numyears_time_df = pd.DataFrame(list(zip(num_years, time_fcyears)), columns = ['Number of Meter IDs', 'Run Time (in seconds)'])\n",
    "\n",
    "plt.plot(num_years, time_fcyears)\n",
    "plt.xlabel('Year of Data Availability')\n",
    "plt.ylabel('Run Time (in seconds)')\n",
    "plt.title('Benchmarking wrt period length')"
   ]
  },
  {
   "cell_type": "markdown",
   "id": "76156db7",
   "metadata": {},
   "source": [
    "#Part 5\n",
    "\n",
    "As can be seen from the graphs of part 4, the run time of the function grows linearly with respect to the number of meter ids. Also, the run time of the function grows linearly with respect to the amount of forecasted data available. \n",
    "\n",
    "The process of calculation is fairly simple. Hence, it is difficult to find significant improvements. However, one change can be made based on the need and availability of time and space. In this case, the dataset of 'rates' is inputted into the main function and is iterated for every meter id to find the correct required rate based on the given date. However, this increases the computation time while keeping the memory consumption to a minimum. This is acceptable as the size of the data set is low in this case and the run times are fast. In case the program is supposed to run on large datasets, the rates dataset can be split into small datasets or even variables and can be stored separately. This will help in the program in running faster as the required variable can be extracted faster. The difference in the program itself will follow along the lines of difference between part 1 and part 4 of this code. It's a matter of time complexity vs memory/space availability. "
   ]
  }
 ],
 "metadata": {
  "kernelspec": {
   "display_name": "Python 3",
   "language": "python",
   "name": "python3"
  },
  "language_info": {
   "codemirror_mode": {
    "name": "ipython",
    "version": 3
   },
   "file_extension": ".py",
   "mimetype": "text/x-python",
   "name": "python",
   "nbconvert_exporter": "python",
   "pygments_lexer": "ipython3",
   "version": "3.8.3"
  }
 },
 "nbformat": 4,
 "nbformat_minor": 5
}
