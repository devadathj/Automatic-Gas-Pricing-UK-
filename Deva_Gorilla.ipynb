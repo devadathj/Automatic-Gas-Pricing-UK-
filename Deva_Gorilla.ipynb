{
 "cells": [
  {
   "cell_type": "code",
   "execution_count": 1,
   "id": "e9789b11",
   "metadata": {},
   "outputs": [],
   "source": [
    "import pandas as pd\n",
    "import numpy as np\n",
    "import random \n",
    "import datetime\n",
    "import timeit\n",
    "import matplotlib.pyplot as plt"
   ]
  },
  {
   "cell_type": "code",
   "execution_count": 2,
   "id": "43e5e251",
   "metadata": {},
   "outputs": [
    {
     "name": "stdout",
     "output_type": "stream",
     "text": [
      "            Total Estimated Consumption (kWh)  Total Cost (£)\n",
      "Meter ID                                                     \n",
      "1000000603                            24674.0            8.27\n",
      "10588707                             122450.0           28.50\n",
      "10626610                             303558.0           88.24\n"
     ]
    }
   ],
   "source": [
    "#Part 1\n",
    "#Reading files and creating required dataframes\n",
    "xls = pd.ExcelFile(r\"C:\\Users\\Devadath\\Desktop\\Gorilla Test\\data.xlsx\")\n",
    "fc = pd.read_excel(xls, 'Forecasted Consumption', index_col='Meter ID')\n",
    "ml = pd.read_excel(xls, 'Meter List', index_col = 'Meter ID')\n",
    "rates = pd.read_excel(xls, 'Rates', index_col = 'Exit Zone')\n",
    "\n",
    "#Setting upper bounds to infinity\n",
    "rates = rates.fillna(np.inf)\n",
    "\n",
    "tcpm = list()\n",
    "tc = list()\n",
    "mid = list()\n",
    "\n",
    "for i,row in ml.iterrows(): #For every Meter ID\n",
    "    ez = ml.loc[i,'Exit Zone'] #Identify the Exit Zone\n",
    "    aq = ml.loc[i,'Annual Quantity (kWh)'] #Identify the Annual Quantity\n",
    "    \n",
    "    reqexrates = rates.loc[ez] #Find the rate ranges for that Exit Zone\n",
    "    \n",
    "    reqdaterange = reqexrates.loc[(reqexrates['Annual Quantity (Max)']>aq) & (reqexrates['Annual Quantity (Min)']<aq) ] #Find the applicable value from the range\n",
    "    reqdaterange = reqdaterange.reset_index()\n",
    "    fcreq = fc.loc[i] #Find the Consumption readings of the given Meter\n",
    "    fcreq = fcreq.reset_index()\n",
    "    \n",
    "    pper = list()\n",
    "    k=0\n",
    "    for j,row in fcreq.iterrows(): #Price at a given date\n",
    "        \n",
    "        if (fcreq.loc[j,'Date']>=reqdaterange.loc[k,'Date']) & (fcreq.loc[j,'Date']<reqdaterange.loc[k+1,'Date']):\n",
    "            pper.append(reqdaterange.loc[k,'Rate (p/kWh)'])\n",
    "        else:\n",
    "            k=k+1\n",
    "            pper.append(reqdaterange.loc[k,'Rate (p/kWh)'])\n",
    "            \n",
    "    tcpm.append(sum(fcreq['kWh']*pper/100))\n",
    "    tc.append(sum(fcreq['kWh']))\n",
    "    mid.append(i)\n",
    "    \n",
    "tcpm = [round(num, 2) for num in tcpm] #Rounding up for 2 decimal spots\n",
    "tc = [round(num, 2) for num in tc]\n",
    "\n",
    "part1 = pd.DataFrame(list(zip(mid,tc,tcpm)), columns =['Meter ID', 'Total Estimated Consumption (kWh)','Total Cost (£)'])\n",
    "part1 = part1.set_index(\"Meter ID\")\n",
    "print (part1)"
   ]
  },
  {
   "cell_type": "code",
   "execution_count": 3,
   "id": "156b81ef",
   "metadata": {},
   "outputs": [],
   "source": [
    "#Part 2\n",
    "def part2(rates, num=random.randint(1,100)):  #Number of meters can be specified. If not, random between 1 and 100\n",
    "    rates = rates.reset_index()\n",
    "    ezunilist = set(rates['Exit Zone'])\n",
    "    midlist = list(np.random.randint(low = 1,high=999999999,size=num)) #Random Meter numbers\n",
    "    ezlocs = list(np.random.randint(low = 1,high=len(ezunilist),size=num)) #Random Zones  for the meters\n",
    "    ezlist = [list(ezunilist)[i] for i in ezlocs]  \n",
    "    aqlist = random.sample(range(1, 999999), num) #Random AQs\n",
    "    part2 = pd.DataFrame(list(zip(midlist,ezlist,aqlist)), columns =['Meter ID', 'Exit Zone','Annual Quantity (kWh)'])\n",
    "    return part2"
   ]
  },
  {
   "cell_type": "code",
   "execution_count": 4,
   "id": "bb4269e6",
   "metadata": {},
   "outputs": [],
   "source": [
    "#Part 3\n",
    "def part3(midlist,sdate,smonth,syear,edate,emonth,eyear):\n",
    "    stdate = datetime.date(syear,smonth,sdate)\n",
    "    endate = datetime.date(eyear,emonth,edate)\n",
    "    \n",
    "    everyday = pd.date_range(stdate,endate,freq='d')\n",
    "    part3 = pd.DataFrame(columns =['Date','Meter ID','kWh'])\n",
    "    for i in midlist:\n",
    "        mid = [i]*len(everyday)\n",
    "        cons = list(np.random.randint(low = 1,high=999,size=len(everyday)))\n",
    "        temp = pd.DataFrame(list(zip(everyday,mid,cons)), columns =['Date','Meter ID','kWh'])\n",
    "        part3 = pd.concat([part3,temp])\n",
    "        part3.sort_values(by=['Date'], inplace=True)\n",
    "    return part3"
   ]
  },
  {
   "cell_type": "code",
   "execution_count": 5,
   "id": "01f0e2c6",
   "metadata": {},
   "outputs": [
    {
     "data": {
      "text/plain": [
       "Text(0.5, 1.0, 'Benchmarking wrt number of meters')"
      ]
     },
     "execution_count": 5,
     "metadata": {},
     "output_type": "execute_result"
    },
    {
     "data": {
      "image/png": "[encoded data removed]",
      "text/plain": [
       "<Figure size 432x288 with 1 Axes>"
      ]
     },
     "metadata": {
      "needs_background": "light"
     },
     "output_type": "display_data"
    }
   ],
   "source": [
    "#Part 4 #Since the problem statement doesn't suggest inputting rates table, an assumption of constant rate is considered \n",
    "def part4(fc,ml,rate):\n",
    "    fc = fc.set_index('Meter ID')\n",
    "    ml = ml.set_index('Meter ID')\n",
    "    \n",
    "    tcpm = list()\n",
    "    tc = list()\n",
    "    mid = list()    \n",
    "\n",
    "    for i,row in ml.iterrows():\n",
    "    \n",
    "        fcreq = fc.loc[i]\n",
    "        fcreq = fcreq.reset_index()\n",
    "        \n",
    "        tcpm.append(sum(pd.Series(fcreq['kWh'])*rate/100))\n",
    "        tc.append(sum(fcreq['kWh']))\n",
    "        mid.append(i)\n",
    "        \n",
    "    tcpm = [round(num, 2) for num in tcpm] #Rounding up for 2 decimal spots\n",
    "    tc = [round(num, 2) for num in tc]\n",
    "    \n",
    "    part4 = pd.DataFrame(list(zip(mid,tc,tcpm)), columns =['Meter ID', 'Total Estimated Consumption (kWh)','Total Cost (£)'])\n",
    "\n",
    "    return part4\n",
    "\n",
    "#Benchmarking\n",
    "time1=list()\n",
    "numids = np.arange(1,500,10) #Complexity wrt number of meters\n",
    "for i in numids: \n",
    "    mlnew = part2(rates,i)\n",
    "    fcnew = part3(mlnew['Meter ID'],1,1,2020,31,12,2022)\n",
    "    start_time = timeit.default_timer()\n",
    "    part4(fcnew,mlnew,0.0287)\n",
    "    time1.append(timeit.default_timer() - start_time)\n",
    "    \n",
    "nummetcom = pd.DataFrame(list(zip(numids,time1)), columns =['Number of Meter IDs', 'Time for compilation'])\n",
    "\n",
    "plt.plot(numids,time1)\n",
    "plt.xlabel('Number of Meter IDs')\n",
    "plt.ylabel('Time for compilation')\n",
    "plt.title('Benchmarking wrt number of meters')"
   ]
  },
  {
   "cell_type": "code",
   "execution_count": 6,
   "id": "60bd65ce",
   "metadata": {},
   "outputs": [
    {
     "data": {
      "text/plain": [
       "Text(0.5, 1.0, 'Benchmarking wrt period lengh')"
      ]
     },
     "execution_count": 6,
     "metadata": {},
     "output_type": "execute_result"
    },
    {
     "data": {
      "image/png": "[encoded data removed]",
      "text/plain": [
       "<Figure size 432x288 with 1 Axes>"
      ]
     },
     "metadata": {
      "needs_background": "light"
     },
     "output_type": "display_data"
    }
   ],
   "source": [
    "time2=list()\n",
    "timids = np.arange(2021,2100,5) #Complexity wrt increasing time\n",
    "for i in timids: \n",
    "    mlnew = part2(rates,10)\n",
    "    fcnew = part3(mlnew['Meter ID'],1,1,2020,31,12,i)\n",
    "    start_time = timeit.default_timer()\n",
    "    part4(fcnew,mlnew,0.0287)\n",
    "    time2.append(timeit.default_timer() - start_time)\n",
    "    \n",
    "timmetcom = pd.DataFrame(list(zip(timids,time2)), columns =['Number of Meter IDs', 'Time for compilation'])\n",
    "\n",
    "plt.plot(timids,time2)\n",
    "plt.xlabel('Year of Data Availability')\n",
    "plt.ylabel('Time for compilation')\n",
    "plt.title('Benchmarking wrt period lengh')"
   ]
  },
  {
   "cell_type": "markdown",
   "id": "76156db7",
   "metadata": {},
   "source": [
    "#Part 5\n",
    "\n",
    "As can be seen from the graphs from part 4, the time for compilation of the function grows fairly linearly with respect to number of meter ids. Also, th time for compilation of the function grows linearly with respect to the amount of forecasted data available. The process of calculation is fairly simple. Hence, it is difficult to find significant improvements. However, instead of using the entire data set at the same time, splitting it into parts as per the dates at which the rates change, helps keep the time complexity to minimum (The difference between part 1 and part 4). This would also be incredibly helpful as the size of data sets increase."
   ]
  }
 ],
 "metadata": {
  "kernelspec": {
   "display_name": "Python 3",
   "language": "python",
   "name": "python3"
  },
  "language_info": {
   "codemirror_mode": {
    "name": "ipython",
    "version": 3
   },
   "file_extension": ".py",
   "mimetype": "text/x-python",
   "name": "python",
   "nbconvert_exporter": "python",
   "pygments_lexer": "ipython3",
   "version": "3.8.3"
  }
 },
 "nbformat": 4,
 "nbformat_minor": 5
}
